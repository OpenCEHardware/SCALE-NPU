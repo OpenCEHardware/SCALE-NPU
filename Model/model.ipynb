{
 "cells": [
  {
   "cell_type": "markdown",
   "metadata": {},
   "source": [
    "# Imports"
   ]
  },
  {
   "cell_type": "code",
   "execution_count": 1541,
   "metadata": {},
   "outputs": [],
   "source": [
    "from sklearn.datasets import load_iris\n",
    "from sklearn.preprocessing import normalize, label_binarize\n",
    "from sklearn.utils import shuffle\n",
    "from sklearn.metrics import confusion_matrix, classification_report, roc_curve, auc\n",
    "from sklearn.model_selection import train_test_split\n",
    "\n",
    "import numpy as np\n",
    "import matplotlib.pyplot as plt\n",
    "import seaborn as sns\n",
    "\n",
    "#Neural network module\n",
    "import tensorflow as tf\n",
    "import keras\n",
    "from keras.models import Sequential \n",
    "from keras.layers import Dense, Input, Dropout\n",
    "from keras.utils import to_categorical\n",
    "\n",
    "\n",
    "from tensorflow.keras.layers import BatchNormalization\n",
    "from tensorflow.keras.optimizers import Adam\n",
    "from tensorflow.keras.callbacks import LearningRateScheduler"
   ]
  },
  {
   "cell_type": "markdown",
   "metadata": {},
   "source": [
    "# Special variables"
   ]
  },
  {
   "cell_type": "code",
   "execution_count": 1542,
   "metadata": {},
   "outputs": [],
   "source": [
    "normal_model_acc            = 0\n",
    "quantizde_weights_model_acc = 0\n",
    "fully_quantized_model_acc   = 0\n"
   ]
  },
  {
   "cell_type": "markdown",
   "metadata": {},
   "source": [
    "# Dataset Analysis"
   ]
  },
  {
   "cell_type": "code",
   "execution_count": 1543,
   "metadata": {},
   "outputs": [
    {
     "name": "stdout",
     "output_type": "stream",
     "text": [
      "Feature names: ['sepal length (cm)', 'sepal width (cm)', 'petal length (cm)', 'petal width (cm)']\n",
      "Target names (species): ['setosa' 'versicolor' 'virginica']\n",
      "First 5 samples of feature data:\n",
      " [[5.1 3.5 1.4 0.2]\n",
      " [4.9 3.  1.4 0.2]\n",
      " [4.7 3.2 1.3 0.2]\n",
      " [4.6 3.1 1.5 0.2]\n",
      " [5.  3.6 1.4 0.2]]\n",
      "First 5 target labels (species):\n",
      " [0 0 0 0 0]\n"
     ]
    }
   ],
   "source": [
    "\n",
    "# Load the iris dataset\n",
    "iris = load_iris()\n",
    "\n",
    "# Check the feature names (sepal length, sepal width, petal length, petal width)\n",
    "print(\"Feature names:\", iris.feature_names)\n",
    "\n",
    "# Check the target names (the species of the iris)\n",
    "print(\"Target names (species):\", iris.target_names)\n",
    "\n",
    "# Check the first 5 samples of feature data (numerical values)\n",
    "print(\"First 5 samples of feature data:\\n\", iris.data[:5])\n",
    "\n",
    "# Check the first 5 labels (encoded as 0, 1, or 2 for each species)\n",
    "print(\"First 5 target labels (species):\\n\", iris.target[:5])\n",
    "\n"
   ]
  },
  {
   "cell_type": "code",
   "execution_count": 1544,
   "metadata": {},
   "outputs": [
    {
     "name": "stdout",
     "output_type": "stream",
     "text": [
      "Total number of samples: 150\n",
      "Total number of features: 4\n",
      "Total number of classes: 3\n",
      "\n",
      "Minimum values for each feature:\n",
      "sepal length (cm): 4.3\n",
      "sepal width (cm): 2.0\n",
      "petal length (cm): 1.0\n",
      "petal width (cm): 0.1\n",
      "\n",
      "Maximum values for each feature:\n",
      "sepal length (cm): 7.9\n",
      "sepal width (cm): 4.4\n",
      "petal length (cm): 6.9\n",
      "petal width (cm): 2.5\n",
      "\n",
      "Mean values for each feature:\n",
      "sepal length (cm): 5.84\n",
      "sepal width (cm): 3.06\n",
      "petal length (cm): 3.76\n",
      "petal width (cm): 1.20\n",
      "\n",
      "Standard deviation for each feature:\n",
      "sepal length (cm): 0.83\n",
      "sepal width (cm): 0.43\n",
      "petal length (cm): 1.76\n",
      "petal width (cm): 0.76\n",
      "\n",
      "Class distribution:\n",
      "setosa: 50 samples\n",
      "versicolor: 50 samples\n",
      "virginica: 50 samples\n"
     ]
    }
   ],
   "source": [
    "# Total number of samples\n",
    "total_samples = iris.data.shape[0]\n",
    "\n",
    "# Total number of features (sepal length, sepal width, etc.)\n",
    "total_features = iris.data.shape[1]\n",
    "\n",
    "# Total number of classes\n",
    "total_classes = len(np.unique(iris.target))\n",
    "\n",
    "# Minimum and maximum values for each feature\n",
    "min_values = np.min(iris.data, axis=0)\n",
    "max_values = np.max(iris.data, axis=0)\n",
    "\n",
    "# Mean and standard deviation for each feature\n",
    "mean_values = np.mean(iris.data, axis=0)\n",
    "std_values = np.std(iris.data, axis=0)\n",
    "\n",
    "# Class distribution (how many samples per class)\n",
    "unique, counts = np.unique(iris.target, return_counts=True)\n",
    "class_distribution = dict(zip(iris.target_names, counts))\n",
    "\n",
    "# Display the results\n",
    "print(f\"Total number of samples: {total_samples}\")\n",
    "print(f\"Total number of features: {total_features}\")\n",
    "print(f\"Total number of classes: {total_classes}\\n\")\n",
    "\n",
    "print(\"Minimum values for each feature:\")\n",
    "for feature_name, min_val in zip(iris.feature_names, min_values):\n",
    "    print(f\"{feature_name}: {min_val}\")\n",
    "\n",
    "print(\"\\nMaximum values for each feature:\")\n",
    "for feature_name, max_val in zip(iris.feature_names, max_values):\n",
    "    print(f\"{feature_name}: {max_val}\")\n",
    "\n",
    "print(\"\\nMean values for each feature:\")\n",
    "for feature_name, mean_val in zip(iris.feature_names, mean_values):\n",
    "    print(f\"{feature_name}: {mean_val:.2f}\")\n",
    "\n",
    "print(\"\\nStandard deviation for each feature:\")\n",
    "for feature_name, std_val in zip(iris.feature_names, std_values):\n",
    "    print(f\"{feature_name}: {std_val:.2f}\")\n",
    "\n",
    "print(\"\\nClass distribution:\")\n",
    "for class_name, count in class_distribution.items():\n",
    "    print(f\"{class_name}: {count} samples\")"
   ]
  },
  {
   "cell_type": "markdown",
   "metadata": {},
   "source": [
    "# Dataset Normalization (L2 Norm)"
   ]
  },
  {
   "cell_type": "code",
   "execution_count": 1545,
   "metadata": {},
   "outputs": [
    {
     "name": "stdout",
     "output_type": "stream",
     "text": [
      "First 5 normalized samples of X:\n",
      " [[0.80377277 0.55160877 0.22064351 0.0315205 ]\n",
      " [0.82813287 0.50702013 0.23660939 0.03380134]\n",
      " [0.80533308 0.54831188 0.2227517  0.03426949]\n",
      " [0.80003025 0.53915082 0.26087943 0.03478392]\n",
      " [0.790965   0.5694948  0.2214702  0.0316386 ]]\n",
      "\n",
      "First 5 samples of y (target):\n",
      " [0 0 0 0 0]\n"
     ]
    }
   ],
   "source": [
    "# Create X (features) and Y (target) vectors\n",
    "X = iris.data  # This is the feature matrix\n",
    "y = iris.target  # This is the target vector (species)\n",
    "\n",
    "# Normalize X using L2 norm (default)\n",
    "X_normalized = normalize(X)\n",
    "\n",
    "# Display the first 5 samples of X (normalized) and Y\n",
    "print(\"First 5 normalized samples of X:\\n\", X_normalized[:5])\n",
    "print(\"\\nFirst 5 samples of y (target):\\n\", y[:5])"
   ]
  },
  {
   "cell_type": "code",
   "execution_count": 1546,
   "metadata": {},
   "outputs": [
    {
     "name": "stdout",
     "output_type": "stream",
     "text": [
      "Minimum values for each feature normalized:\n",
      "sepal length (cm): 0.6538774709871312\n",
      "sepal width (cm): 0.23839169677842428\n",
      "petal length (cm): 0.16783627165933782\n",
      "petal width (cm): 0.014726598240177802\n",
      "\n",
      "Maximum values for each feature normalized:\n",
      "sepal length (cm): 0.8609385732675535\n",
      "sepal width (cm): 0.6071249316193964\n",
      "petal length (cm): 0.6369808460748799\n",
      "petal width (cm): 0.28041899416175325\n",
      "\n",
      "Mean values for each feature normalized:\n",
      "sepal length (cm): 0.75\n",
      "sepal width (cm): 0.41\n",
      "petal length (cm): 0.45\n",
      "petal width (cm): 0.14\n",
      "\n",
      "Standard deviation for each feature normalized:\n",
      "sepal length (cm): 0.04\n",
      "sepal width (cm): 0.11\n",
      "petal length (cm): 0.16\n",
      "petal width (cm): 0.08\n"
     ]
    }
   ],
   "source": [
    "# Minimum and maximum values for each feature normalized\n",
    "min_values = np.min(X_normalized, axis=0)\n",
    "max_values = np.max(X_normalized, axis=0)\n",
    "\n",
    "# Mean and standard deviation for each feature normalized\n",
    "mean_values = np.mean(X_normalized, axis=0)\n",
    "std_values = np.std(X_normalized, axis=0)\n",
    "\n",
    "print(\"Minimum values for each feature normalized:\")\n",
    "for feature_name, min_val in zip(iris.feature_names, min_values):\n",
    "    print(f\"{feature_name}: {min_val}\")\n",
    "\n",
    "print(\"\\nMaximum values for each feature normalized:\")\n",
    "for feature_name, max_val in zip(iris.feature_names, max_values):\n",
    "    print(f\"{feature_name}: {max_val}\")\n",
    "\n",
    "print(\"\\nMean values for each feature normalized:\")\n",
    "for feature_name, mean_val in zip(iris.feature_names, mean_values):\n",
    "    print(f\"{feature_name}: {mean_val:.2f}\")\n",
    "\n",
    "print(\"\\nStandard deviation for each feature normalized:\")\n",
    "for feature_name, std_val in zip(iris.feature_names, std_values):\n",
    "    print(f\"{feature_name}: {std_val:.2f}\")"
   ]
  },
  {
   "cell_type": "markdown",
   "metadata": {},
   "source": [
    "# Input Data Quantization"
   ]
  },
  {
   "cell_type": "markdown",
   "metadata": {},
   "source": [
    "Input data is quantized to int8 using:\n",
    "\n",
    "```math\n",
    "\\hat{X} = clamp\\left\\{round\\left(\\frac{X}{s}\\right) + z; min(quant), max(quant)\\right\\}\n",
    "```\n",
    "\n",
    "where: \n",
    "\n",
    "```math\n",
    "s = \\frac{max(X) -min(X)}{max(quant) -min(quant)} \n",
    "```\n",
    "\n",
    "and: \n",
    "\n",
    "```math\n",
    "z = round\\left(\\frac{0-min(X)}{s}\\right)\n",
    "```\n",
    "\n",
    "Quant is the quantization space in 8 signed bits ints -> -128 to 127"
   ]
  },
  {
   "cell_type": "code",
   "execution_count": 1547,
   "metadata": {},
   "outputs": [
    {
     "name": "stdout",
     "output_type": "stream",
     "text": [
      "First 5 quantized and scaled samples of X:\n",
      " [[ 110   34  -66 -123]\n",
      " [ 118   21  -61 -122]\n",
      " [ 111   33  -65 -122]\n",
      " [ 109   30  -53 -122]\n",
      " [ 106   40  -65 -122]]\n"
     ]
    }
   ],
   "source": [
    "# Function to calculate scale and zero point for input quantization\n",
    "def calculate_scale_and_zero_point_input(X, quant_min=-128, quant_max=127):\n",
    "    # Find the min and max of the normalized input data\n",
    "    X_min = np.min(X)\n",
    "    X_max = np.max(X)\n",
    "    \n",
    "    # Calculate scale\n",
    "    scale = (X_max - X_min) / (quant_max - quant_min)\n",
    "    \n",
    "    # Calculate zero point (shift to map 0 in X to the quantized range)\n",
    "    zero_point = np.round(quant_min - X_min / scale).astype(int)\n",
    "    \n",
    "    return scale, zero_point\n",
    "\n",
    "# Function to quantize inputs\n",
    "def quantize_input(X, scale, zero_point, quant_min=-128, quant_max=127):\n",
    "    # Quantize the input using the scale and zero point\n",
    "    quantized_X = np.round(X / scale + zero_point)\n",
    "    \n",
    "    # Clip values to be within the range [quant_min, quant_max]\n",
    "    quantized_X = np.clip(quantized_X, quant_min, quant_max).astype(int)\n",
    "    \n",
    "    return quantized_X\n",
    "\n",
    "# Calculate scale and zero point for the input\n",
    "input_scale, input_zero_point = calculate_scale_and_zero_point_input(X_normalized)\n",
    "\n",
    "# Quantize the normalized input data\n",
    "X_normalized_scaled = quantize_input(X_normalized, input_scale, input_zero_point)\n",
    "\n",
    "# Print first 5 quantized input samples\n",
    "print(\"First 5 quantized and scaled samples of X:\\n\", X_normalized_scaled[:5])\n"
   ]
  },
  {
   "cell_type": "code",
   "execution_count": 1548,
   "metadata": {},
   "outputs": [
    {
     "name": "stdout",
     "output_type": "stream",
     "text": [
      "Minimum values for each feature normalized and scaled:\n",
      "sepal length (cm): 65\n",
      "sepal width (cm): -60\n",
      "petal length (cm): -81\n",
      "petal width (cm): -128\n",
      "\n",
      "Maximum values for each feature normalized and scaled:\n",
      "sepal length (cm): 127\n",
      "sepal width (cm): 51\n",
      "petal length (cm): 60\n",
      "petal width (cm): -47\n",
      "\n",
      "Mean values for each feature normalized and scaled:\n",
      "sepal length (cm): 94.45\n",
      "sepal width (cm): -9.91\n",
      "petal length (cm): 5.10\n",
      "petal width (cm): -89.50\n",
      "\n",
      "Standard deviation for each feature normalized and scaled:\n",
      "sepal length (cm): 13.32\n",
      "sepal width (cm): 31.74\n",
      "petal length (cm): 48.07\n",
      "petal width (cm): 23.45\n"
     ]
    }
   ],
   "source": [
    "# Minimum and maximum values for each feature normalized and scaled\n",
    "min_values = np.min(X_normalized_scaled, axis=0)\n",
    "max_values = np.max(X_normalized_scaled, axis=0)\n",
    "\n",
    "# Mean and standard deviation for each feature normalized and scaled\n",
    "mean_values = np.mean(X_normalized_scaled, axis=0)\n",
    "std_values = np.std(X_normalized_scaled, axis=0)\n",
    "\n",
    "print(\"Minimum values for each feature normalized and scaled:\")\n",
    "for feature_name, min_val in zip(iris.feature_names, min_values):\n",
    "    print(f\"{feature_name}: {min_val}\")\n",
    "\n",
    "print(\"\\nMaximum values for each feature normalized and scaled:\")\n",
    "for feature_name, max_val in zip(iris.feature_names, max_values):\n",
    "    print(f\"{feature_name}: {max_val}\")\n",
    "\n",
    "print(\"\\nMean values for each feature normalized and scaled:\")\n",
    "for feature_name, mean_val in zip(iris.feature_names, mean_values):\n",
    "    print(f\"{feature_name}: {mean_val:.2f}\")\n",
    "\n",
    "print(\"\\nStandard deviation for each feature normalized and scaled:\")\n",
    "for feature_name, std_val in zip(iris.feature_names, std_values):\n",
    "    print(f\"{feature_name}: {std_val:.2f}\")"
   ]
  },
  {
   "cell_type": "markdown",
   "metadata": {},
   "source": [
    "# Dataset partitioning (Test and Train)"
   ]
  },
  {
   "cell_type": "code",
   "execution_count": 1549,
   "metadata": {},
   "outputs": [
    {
     "name": "stdout",
     "output_type": "stream",
     "text": [
      "Class distribution in y_train:\n",
      "Class 0: 40 entries\n",
      "Class 1: 40 entries\n",
      "Class 2: 40 entries\n",
      "\n",
      "Class distribution in y_test:\n",
      "Class 0: 10 entries\n",
      "Class 1: 10 entries\n",
      "Class 2: 10 entries\n",
      "\n",
      "Shape of y_train: (120, 3)\n",
      "Shape of y_test: (30, 3)\n"
     ]
    }
   ],
   "source": [
    "# Stratified train-test split\n",
    "X_train, X_test, y_train, y_test = train_test_split(X_normalized_scaled, y, test_size=0.2, stratify=y, random_state=11)\n",
    "\n",
    "# Count the number of entries for each class in the train and test sets before one-hot encoding\n",
    "unique_train, counts_train = np.unique(y_train, return_counts=True)\n",
    "unique_test, counts_test = np.unique(y_test, return_counts=True)\n",
    "\n",
    "print(\"Class distribution in y_train:\")\n",
    "for cls, count in zip(unique_train, counts_train):\n",
    "    print(f\"Class {cls}: {count} entries\")\n",
    "\n",
    "print(\"\\nClass distribution in y_test:\")\n",
    "for cls, count in zip(unique_test, counts_test):\n",
    "    print(f\"Class {cls}: {count} entries\")\n",
    "\n",
    "# Change the labels to one-hot vectors\n",
    "y_train = to_categorical(y_train, num_classes=3)\n",
    "y_test = to_categorical(y_test, num_classes=3)\n",
    "\n",
    "# Print the shape of the one-hot encoded labels\n",
    "print(\"\\nShape of y_train:\", y_train.shape)\n",
    "print(\"Shape of y_test:\", y_test.shape)"
   ]
  },
  {
   "cell_type": "markdown",
   "metadata": {},
   "source": [
    "# Neural Network Architecture"
   ]
  },
  {
   "cell_type": "code",
   "execution_count": 1550,
   "metadata": {},
   "outputs": [],
   "source": [
    "# Define the model\n",
    "model = Sequential()\n",
    "\n",
    "# Input layer and first hidden layer\n",
    "model.add(Input(shape=(4,)))\n",
    "model.add(Dense(8, activation='relu'))\n",
    "\n",
    "# Second hidden layer\n",
    "model.add(Dense(8, activation='relu'))\n",
    "\n",
    "# Output layer\n",
    "model.add(Dense(3, activation='softmax'))\n",
    "\n",
    "# Learning rate scheduler\n",
    "def scheduler(epoch, lr):\n",
    "    if epoch < 10:\n",
    "        return lr\n",
    "    else:\n",
    "        return lr * 0.9\n",
    "\n",
    "lr_scheduler = LearningRateScheduler(scheduler)\n",
    "\n",
    "# Compile the model\n",
    "model.compile(loss='categorical_crossentropy', optimizer=Adam(learning_rate=0.01), metrics=['accuracy'])"
   ]
  },
  {
   "cell_type": "code",
   "execution_count": 1551,
   "metadata": {},
   "outputs": [
    {
     "data": {
      "text/html": [
       "<pre style=\"white-space:pre;overflow-x:auto;line-height:normal;font-family:Menlo,'DejaVu Sans Mono',consolas,'Courier New',monospace\"><span style=\"font-weight: bold\">Model: \"sequential_138\"</span>\n",
       "</pre>\n"
      ],
      "text/plain": [
       "\u001b[1mModel: \"sequential_138\"\u001b[0m\n"
      ]
     },
     "metadata": {},
     "output_type": "display_data"
    },
    {
     "data": {
      "text/html": [
       "<pre style=\"white-space:pre;overflow-x:auto;line-height:normal;font-family:Menlo,'DejaVu Sans Mono',consolas,'Courier New',monospace\">┏━━━━━━━━━━━━━━━━━━━━━━━━━━━━━━━━━┳━━━━━━━━━━━━━━━━━━━━━━━━┳━━━━━━━━━━━━━━━┓\n",
       "┃<span style=\"font-weight: bold\"> Layer (type)                    </span>┃<span style=\"font-weight: bold\"> Output Shape           </span>┃<span style=\"font-weight: bold\">       Param # </span>┃\n",
       "┡━━━━━━━━━━━━━━━━━━━━━━━━━━━━━━━━━╇━━━━━━━━━━━━━━━━━━━━━━━━╇━━━━━━━━━━━━━━━┩\n",
       "│ dense_416 (<span style=\"color: #0087ff; text-decoration-color: #0087ff\">Dense</span>)               │ (<span style=\"color: #00d7ff; text-decoration-color: #00d7ff\">None</span>, <span style=\"color: #00af00; text-decoration-color: #00af00\">8</span>)              │            <span style=\"color: #00af00; text-decoration-color: #00af00\">40</span> │\n",
       "├─────────────────────────────────┼────────────────────────┼───────────────┤\n",
       "│ dense_417 (<span style=\"color: #0087ff; text-decoration-color: #0087ff\">Dense</span>)               │ (<span style=\"color: #00d7ff; text-decoration-color: #00d7ff\">None</span>, <span style=\"color: #00af00; text-decoration-color: #00af00\">8</span>)              │            <span style=\"color: #00af00; text-decoration-color: #00af00\">72</span> │\n",
       "├─────────────────────────────────┼────────────────────────┼───────────────┤\n",
       "│ dense_418 (<span style=\"color: #0087ff; text-decoration-color: #0087ff\">Dense</span>)               │ (<span style=\"color: #00d7ff; text-decoration-color: #00d7ff\">None</span>, <span style=\"color: #00af00; text-decoration-color: #00af00\">3</span>)              │            <span style=\"color: #00af00; text-decoration-color: #00af00\">27</span> │\n",
       "└─────────────────────────────────┴────────────────────────┴───────────────┘\n",
       "</pre>\n"
      ],
      "text/plain": [
       "┏━━━━━━━━━━━━━━━━━━━━━━━━━━━━━━━━━┳━━━━━━━━━━━━━━━━━━━━━━━━┳━━━━━━━━━━━━━━━┓\n",
       "┃\u001b[1m \u001b[0m\u001b[1mLayer (type)                   \u001b[0m\u001b[1m \u001b[0m┃\u001b[1m \u001b[0m\u001b[1mOutput Shape          \u001b[0m\u001b[1m \u001b[0m┃\u001b[1m \u001b[0m\u001b[1m      Param #\u001b[0m\u001b[1m \u001b[0m┃\n",
       "┡━━━━━━━━━━━━━━━━━━━━━━━━━━━━━━━━━╇━━━━━━━━━━━━━━━━━━━━━━━━╇━━━━━━━━━━━━━━━┩\n",
       "│ dense_416 (\u001b[38;5;33mDense\u001b[0m)               │ (\u001b[38;5;45mNone\u001b[0m, \u001b[38;5;34m8\u001b[0m)              │            \u001b[38;5;34m40\u001b[0m │\n",
       "├─────────────────────────────────┼────────────────────────┼───────────────┤\n",
       "│ dense_417 (\u001b[38;5;33mDense\u001b[0m)               │ (\u001b[38;5;45mNone\u001b[0m, \u001b[38;5;34m8\u001b[0m)              │            \u001b[38;5;34m72\u001b[0m │\n",
       "├─────────────────────────────────┼────────────────────────┼───────────────┤\n",
       "│ dense_418 (\u001b[38;5;33mDense\u001b[0m)               │ (\u001b[38;5;45mNone\u001b[0m, \u001b[38;5;34m3\u001b[0m)              │            \u001b[38;5;34m27\u001b[0m │\n",
       "└─────────────────────────────────┴────────────────────────┴───────────────┘\n"
      ]
     },
     "metadata": {},
     "output_type": "display_data"
    },
    {
     "data": {
      "text/html": [
       "<pre style=\"white-space:pre;overflow-x:auto;line-height:normal;font-family:Menlo,'DejaVu Sans Mono',consolas,'Courier New',monospace\"><span style=\"font-weight: bold\"> Total params: </span><span style=\"color: #00af00; text-decoration-color: #00af00\">139</span> (556.00 B)\n",
       "</pre>\n"
      ],
      "text/plain": [
       "\u001b[1m Total params: \u001b[0m\u001b[38;5;34m139\u001b[0m (556.00 B)\n"
      ]
     },
     "metadata": {},
     "output_type": "display_data"
    },
    {
     "data": {
      "text/html": [
       "<pre style=\"white-space:pre;overflow-x:auto;line-height:normal;font-family:Menlo,'DejaVu Sans Mono',consolas,'Courier New',monospace\"><span style=\"font-weight: bold\"> Trainable params: </span><span style=\"color: #00af00; text-decoration-color: #00af00\">139</span> (556.00 B)\n",
       "</pre>\n"
      ],
      "text/plain": [
       "\u001b[1m Trainable params: \u001b[0m\u001b[38;5;34m139\u001b[0m (556.00 B)\n"
      ]
     },
     "metadata": {},
     "output_type": "display_data"
    },
    {
     "data": {
      "text/html": [
       "<pre style=\"white-space:pre;overflow-x:auto;line-height:normal;font-family:Menlo,'DejaVu Sans Mono',consolas,'Courier New',monospace\"><span style=\"font-weight: bold\"> Non-trainable params: </span><span style=\"color: #00af00; text-decoration-color: #00af00\">0</span> (0.00 B)\n",
       "</pre>\n"
      ],
      "text/plain": [
       "\u001b[1m Non-trainable params: \u001b[0m\u001b[38;5;34m0\u001b[0m (0.00 B)\n"
      ]
     },
     "metadata": {},
     "output_type": "display_data"
    }
   ],
   "source": [
    "model.summary()"
   ]
  },
  {
   "cell_type": "markdown",
   "metadata": {},
   "source": [
    "# Model Training"
   ]
  },
  {
   "cell_type": "code",
   "execution_count": 1552,
   "metadata": {},
   "outputs": [
    {
     "name": "stdout",
     "output_type": "stream",
     "text": [
      "Epoch 1/10\n"
     ]
    },
    {
     "name": "stdout",
     "output_type": "stream",
     "text": [
      "\u001b[1m6/6\u001b[0m \u001b[32m━━━━━━━━━━━━━━━━━━━━\u001b[0m\u001b[37m\u001b[0m \u001b[1m2s\u001b[0m 57ms/step - accuracy: 0.5044 - loss: 4.4605 - val_accuracy: 0.6667 - val_loss: 1.4047\n",
      "Epoch 2/10\n",
      "\u001b[1m6/6\u001b[0m \u001b[32m━━━━━━━━━━━━━━━━━━━━\u001b[0m\u001b[37m\u001b[0m \u001b[1m0s\u001b[0m 12ms/step - accuracy: 0.7093 - loss: 1.0608 - val_accuracy: 1.0000 - val_loss: 0.1112\n",
      "Epoch 3/10\n",
      "\u001b[1m6/6\u001b[0m \u001b[32m━━━━━━━━━━━━━━━━━━━━\u001b[0m\u001b[37m\u001b[0m \u001b[1m0s\u001b[0m 12ms/step - accuracy: 0.9076 - loss: 0.2886 - val_accuracy: 0.9667 - val_loss: 0.1447\n",
      "Epoch 4/10\n",
      "\u001b[1m6/6\u001b[0m \u001b[32m━━━━━━━━━━━━━━━━━━━━\u001b[0m\u001b[37m\u001b[0m \u001b[1m0s\u001b[0m 9ms/step - accuracy: 0.8913 - loss: 0.3556 - val_accuracy: 0.9333 - val_loss: 0.2029\n",
      "Epoch 5/10\n",
      "\u001b[1m6/6\u001b[0m \u001b[32m━━━━━━━━━━━━━━━━━━━━\u001b[0m\u001b[37m\u001b[0m \u001b[1m0s\u001b[0m 9ms/step - accuracy: 0.9252 - loss: 0.2054 - val_accuracy: 0.9333 - val_loss: 0.1853\n",
      "Epoch 6/10\n",
      "\u001b[1m6/6\u001b[0m \u001b[32m━━━━━━━━━━━━━━━━━━━━\u001b[0m\u001b[37m\u001b[0m \u001b[1m0s\u001b[0m 13ms/step - accuracy: 0.9156 - loss: 0.2154 - val_accuracy: 0.9667 - val_loss: 0.1014\n",
      "Epoch 7/10\n",
      "\u001b[1m6/6\u001b[0m \u001b[32m━━━━━━━━━━━━━━━━━━━━\u001b[0m\u001b[37m\u001b[0m \u001b[1m0s\u001b[0m 9ms/step - accuracy: 0.9686 - loss: 0.1235 - val_accuracy: 1.0000 - val_loss: 0.0389\n",
      "Epoch 8/10\n",
      "\u001b[1m6/6\u001b[0m \u001b[32m━━━━━━━━━━━━━━━━━━━━\u001b[0m\u001b[37m\u001b[0m \u001b[1m0s\u001b[0m 14ms/step - accuracy: 0.9802 - loss: 0.0839 - val_accuracy: 1.0000 - val_loss: 0.0474\n",
      "Epoch 9/10\n",
      "\u001b[1m6/6\u001b[0m \u001b[32m━━━━━━━━━━━━━━━━━━━━\u001b[0m\u001b[37m\u001b[0m \u001b[1m0s\u001b[0m 11ms/step - accuracy: 0.9382 - loss: 0.1993 - val_accuracy: 0.9667 - val_loss: 0.0942\n",
      "Epoch 10/10\n",
      "\u001b[1m6/6\u001b[0m \u001b[32m━━━━━━━━━━━━━━━━━━━━\u001b[0m\u001b[37m\u001b[0m \u001b[1m0s\u001b[0m 8ms/step - accuracy: 0.9375 - loss: 0.1435 - val_accuracy: 1.0000 - val_loss: 0.0214\n"
     ]
    },
    {
     "data": {
      "text/plain": [
       "<keras.src.callbacks.history.History at 0x7faab615d600>"
      ]
     },
     "execution_count": 1552,
     "metadata": {},
     "output_type": "execute_result"
    }
   ],
   "source": [
    "model.fit(X_train,y_train,validation_data=(X_test,y_test),batch_size=20,epochs=10,verbose=1)"
   ]
  },
  {
   "cell_type": "markdown",
   "metadata": {},
   "source": [
    "# Model Evaluation"
   ]
  },
  {
   "cell_type": "code",
   "execution_count": 1553,
   "metadata": {},
   "outputs": [
    {
     "name": "stdout",
     "output_type": "stream",
     "text": [
      "\u001b[1m1/1\u001b[0m \u001b[32m━━━━━━━━━━━━━━━━━━━━\u001b[0m\u001b[37m\u001b[0m \u001b[1m0s\u001b[0m 65ms/step\n",
      "Accuracy of the dataset: 100.00%\n"
     ]
    },
    {
     "data": {
      "image/png": "[encoded data removed]",
      "text/plain": [
       "<Figure size 800x600 with 2 Axes>"
      ]
     },
     "metadata": {},
     "output_type": "display_data"
    },
    {
     "name": "stdout",
     "output_type": "stream",
     "text": [
      "Classification Report:\n",
      "               precision    recall  f1-score   support\n",
      "\n",
      "     Class 0       1.00      1.00      1.00        10\n",
      "     Class 1       1.00      1.00      1.00        10\n",
      "     Class 2       1.00      1.00      1.00        10\n",
      "\n",
      "    accuracy                           1.00        30\n",
      "   macro avg       1.00      1.00      1.00        30\n",
      "weighted avg       1.00      1.00      1.00        30\n",
      "\n"
     ]
    },
    {
     "data": {
      "image/png": "[encoded data removed]",
      "text/plain": [
       "<Figure size 800x600 with 1 Axes>"
      ]
     },
     "metadata": {},
     "output_type": "display_data"
    }
   ],
   "source": [
    "# Predict on test data\n",
    "predictions = model.predict(X_test)\n",
    "y_pred = np.argmax(predictions, axis=1)\n",
    "y_true = np.argmax(y_test, axis=1)\n",
    "\n",
    "# Calculate accuracy\n",
    "accuracy = np.sum(y_true == y_pred) / len(y_true) * 100\n",
    "normal_model_acc = accuracy\n",
    "print(\"Accuracy of the dataset: {:.2f}%\".format(accuracy))\n",
    "\n",
    "# Confusion Matrix\n",
    "cm = confusion_matrix(y_true, y_pred)\n",
    "plt.figure(figsize=(8, 6))\n",
    "sns.heatmap(cm, annot=True, fmt='d', cmap='Blues', xticklabels=range(3), yticklabels=range(3))\n",
    "plt.xlabel('Predicted Label')\n",
    "plt.ylabel('True Label')\n",
    "plt.title('Confusion Matrix')\n",
    "plt.show()\n",
    "\n",
    "# Classification Report\n",
    "report = classification_report(y_true, y_pred, target_names=[f'Class {i}' for i in range(3)])\n",
    "print(\"Classification Report:\\n\", report)\n",
    "\n",
    "# ROC Curve and AUC\n",
    "# Binarize the output for ROC curve\n",
    "y_test_bin = label_binarize(y_true, classes=[0, 1, 2])\n",
    "y_pred_prob = predictions  # Probability predictions\n",
    "\n",
    "fpr = dict()\n",
    "tpr = dict()\n",
    "roc_auc = dict()\n",
    "for i in range(3):\n",
    "    fpr[i], tpr[i], _ = roc_curve(y_test_bin[:, i], y_pred_prob[:, i])\n",
    "    roc_auc[i] = auc(fpr[i], tpr[i])\n",
    "\n",
    "# Plot ROC curve\n",
    "plt.figure(figsize=(8, 6))\n",
    "for i in range(3):\n",
    "    plt.plot(fpr[i], tpr[i], label=f'Class {i} (area = {roc_auc[i]:.2f})')\n",
    "plt.plot([0, 1], [0, 1], 'k--')\n",
    "plt.xlim([0.0, 1.0])\n",
    "plt.ylim([0.0, 1.05])\n",
    "plt.xlabel('False Positive Rate')\n",
    "plt.ylabel('True Positive Rate')\n",
    "plt.title('Receiver Operating Characteristic (ROC) Curve')\n",
    "plt.legend(loc='lower right')\n",
    "plt.show()\n"
   ]
  },
  {
   "cell_type": "code",
   "execution_count": 1554,
   "metadata": {},
   "outputs": [],
   "source": [
    "model.save_weights('model.weights.h5')"
   ]
  },
  {
   "cell_type": "code",
   "execution_count": 1555,
   "metadata": {},
   "outputs": [
    {
     "name": "stdout",
     "output_type": "stream",
     "text": [
      "Layer: dense_416\n",
      "Weights:\n",
      "[[ 5.5708253e-01  2.6219887e-01  1.0292590e-02 -6.8225408e-01\n",
      "  -6.5194511e-01 -5.7299030e-01  6.1769575e-01 -5.4636657e-02]\n",
      " [ 6.3964677e-01  9.4875760e-02  1.0915917e-01 -6.3997999e-02\n",
      "  -2.3433310e-01  4.5631200e-01  4.5490751e-01  2.5888330e-01]\n",
      " [-1.8358274e-01 -7.6074755e-01 -1.3235390e-01  3.5617998e-01\n",
      "  -9.0708137e-02 -6.5767765e-04  8.1858414e-01 -4.7030300e-01]\n",
      " [-3.2975426e-01 -2.6287669e-01  2.9537672e-01 -3.2028696e-01\n",
      "  -2.9845363e-01  6.1271769e-01  2.4440037e-01  7.0620376e-01]]\n",
      "Biases:\n",
      "[-0.1395569  -0.10240715  0.         -0.10032868  0.          0.\n",
      "  0.11889838  0.        ]\n",
      "Layer: dense_417\n",
      "Weights:\n",
      "[[ 0.367851   -0.41242862 -0.36930466  0.19517599 -0.21242334  0.6140372\n",
      "  -0.24916609 -0.2615244 ]\n",
      " [ 0.3891702  -0.01801015 -0.23124832 -0.56863666  0.6182783   0.27921236\n",
      "   0.52437794  0.24019945]\n",
      " [ 0.49766475 -0.02702945 -0.3364712   0.32469285 -0.0989126  -0.32953689\n",
      "  -0.23119429 -0.04720956]\n",
      " [ 0.43509036 -0.30186522 -0.4825456   0.00217707 -0.05529219 -0.36130813\n",
      "   0.35512418 -0.16199392]\n",
      " [ 0.24969071 -0.5182807   0.17210197  0.21812719 -0.05656326 -0.56550485\n",
      "  -0.58865696 -0.5418905 ]\n",
      " [ 0.33223265  0.34087682  0.01529986 -0.14452213  0.4742965   0.3495596\n",
      "   0.5380139  -0.07020646]\n",
      " [-0.56706893  0.39033708  0.1082378  -0.22362487 -0.2683023  -0.44647044\n",
      "  -0.3572597  -0.02331138]\n",
      " [ 0.28300214 -0.2523488  -0.4667368   0.40520626  0.4352494  -0.15730438\n",
      "   0.22556841  0.3143078 ]]\n",
      "Biases:\n",
      "[-0.12266243  0.01923236  0.         -0.03414778  0.09196021  0.05713889\n",
      "  0.08467874 -0.00223899]\n",
      "Layer: dense_418\n",
      "Weights:\n",
      "[[-0.04619804 -0.65584534 -0.5597176 ]\n",
      " [-0.37218088 -0.58988285  0.33589384]\n",
      " [ 0.33698648 -0.28663182 -0.5308597 ]\n",
      " [-0.6467136   0.10879163 -0.46173304]\n",
      " [ 0.18601331 -0.7373162   0.03794204]\n",
      " [-0.7443742  -0.10547101 -0.31300068]\n",
      " [ 0.4963657  -0.6227706  -0.25113472]\n",
      " [-0.6541954  -0.70202595 -0.66967815]]\n",
      "Biases:\n",
      "[-0.18709064 -0.02546276  0.1691516 ]\n"
     ]
    }
   ],
   "source": [
    "for layer in model.layers:\n",
    "    weights = layer.get_weights()\n",
    "    print(f\"Layer: {layer.name}\")\n",
    "    if weights:\n",
    "        print(\"Weights:\")\n",
    "        print(weights[0])  # Print weights matrix\n",
    "        if len(weights) > 1:\n",
    "            print(\"Biases:\")\n",
    "            print(weights[1])  # Print biases vector\n",
    "    else:\n",
    "        print(\"No weights for this layer.\")\n"
   ]
  },
  {
   "cell_type": "markdown",
   "metadata": {},
   "source": [
    "# Model Weight Quantization\n",
    "\n",
    "Weight data is quantized to int8 the same way inputs are quantized, but its quantization is specific to each layer i:\n",
    "\n",
    "```math\n",
    "\\hat{W_i} = clamp\\left\\{round\\left(\\frac{W_i}{s_i}\\right) + z_i; min(quant), max(quant)\\right\\}\n",
    "```\n",
    "\n",
    "where: \n",
    "\n",
    "```math\n",
    "s_i = \\frac{max(W_i) -min(W_i)}{max(quant) -min(quant)} \n",
    "```\n",
    "\n",
    "and: \n",
    "\n",
    "```math\n",
    "z_i = round\\left(\\frac{0-min(W_i)}{s_i}\\right) \n",
    "```\n",
    "\n",
    "Quant is the quantization space in 8 signed bits ints -> -128 to 127\n"
   ]
  },
  {
   "cell_type": "code",
   "execution_count": 1556,
   "metadata": {},
   "outputs": [
    {
     "name": "stdout",
     "output_type": "stream",
     "text": [
      "Layer: dense_416 - Weights quantized with scale 0.006193 and zero point -5.\n",
      "Layer: dense_416 - Biases quantized with scale 0.001014 and zero point 10.\n",
      "Layer: dense_417 - Weights quantized with scale 0.004733 and zero point -4.\n",
      "Layer: dense_417 - Biases quantized with scale 0.000842 and zero point 18.\n",
      "Layer: dense_418 - Weights quantized with scale 0.004866 and zero point 25.\n",
      "Layer: dense_418 - Biases quantized with scale 0.001397 and zero point 6.\n"
     ]
    }
   ],
   "source": [
    "# Function to calculate the scale and zero point\n",
    "def calculate_scale_and_zero_point(weights, quant_min=-128, quant_max=127):\n",
    "    min_weight = np.min(weights)\n",
    "    max_weight = np.max(weights)\n",
    "    \n",
    "    # Calculate the scale and zero point\n",
    "    scale = (max_weight - min_weight) / (quant_max - quant_min)\n",
    "    zero_point = np.round(quant_min - min_weight / scale).astype(int)\n",
    "    \n",
    "    return scale, zero_point\n",
    "\n",
    "# Function to quantize weights using scale and zero point\n",
    "def quantize_weights(weights, scale, zero_point, quant_min=-128, quant_max=127):\n",
    "    # Quantize weights using the calculated scale and zero point\n",
    "    quantized_weights = np.round(weights / scale + zero_point)\n",
    "    \n",
    "    # Clip values to be within the quantization range\n",
    "    quantized_weights = np.clip(quantized_weights, quant_min, quant_max).astype(int)\n",
    "    \n",
    "    return quantized_weights\n",
    "\n",
    "# Function to scale and quantize the weights of the model\n",
    "def quantize_model_weights(model):\n",
    "    for layer in model.layers:\n",
    "        if isinstance(layer, Dense):\n",
    "            # Get the current weights and biases\n",
    "            weights, biases = layer.get_weights()\n",
    "            \n",
    "            # Calculate scale and zero point for weights\n",
    "            weight_scale, weight_zero_point = calculate_scale_and_zero_point(weights)\n",
    "            bias_scale, bias_zero_point = calculate_scale_and_zero_point(biases)\n",
    "            \n",
    "            # Quantize weights and biases\n",
    "            quantized_weights = quantize_weights(weights, weight_scale, weight_zero_point)\n",
    "            quantized_biases = quantize_weights(biases, bias_scale, bias_zero_point)\n",
    "            \n",
    "            # Set the quantized weights and biases back to the layer\n",
    "            layer.set_weights([quantized_weights, quantized_biases])\n",
    "            \n",
    "            # Print quantization details for debugging\n",
    "            print(f'Layer: {layer.name} - Weights quantized with scale {weight_scale:.6f} and zero point {weight_zero_point}.')\n",
    "            print(f'Layer: {layer.name} - Biases quantized with scale {bias_scale:.6f} and zero point {bias_zero_point}.')\n",
    "    \n",
    "# Apply the quantization to the model\n",
    "quantize_model_weights(model)\n",
    "\n"
   ]
  },
  {
   "cell_type": "code",
   "execution_count": 1557,
   "metadata": {},
   "outputs": [
    {
     "name": "stdout",
     "output_type": "stream",
     "text": [
      "Layer: dense_416\n",
      "Weights:\n",
      "[[  85.   37.   -3. -115. -110.  -98.   95.  -14.]\n",
      " [  98.   10.   13.  -15.  -43.   69.   68.   37.]\n",
      " [ -35. -128.  -26.   53.  -20.   -5.  127.  -81.]\n",
      " [ -58.  -47.   43.  -57.  -53.   94.   34.  109.]]\n",
      "Biases:\n",
      "[-128.  -91.   10.  -89.   10.   10.  127.   10.]\n",
      "Layer: dense_417\n",
      "Weights:\n",
      "[[  74.  -91.  -82.   37.  -49.  126.  -57.  -59.]\n",
      " [  78.   -8.  -53. -124.  127.   55.  107.   47.]\n",
      " [ 101.  -10.  -75.   65.  -25.  -74.  -53.  -14.]\n",
      " [  88.  -68. -106.   -4.  -16.  -80.   71.  -38.]\n",
      " [  49. -114.   32.   42.  -16. -123. -128. -118.]\n",
      " [  66.   68.   -1.  -35.   96.   70.  110.  -19.]\n",
      " [-124.   78.   19.  -51.  -61.  -98.  -79.   -9.]\n",
      " [  56.  -57. -103.   82.   88.  -37.   44.   62.]]\n",
      "Biases:\n",
      "[-128.   41.   18.  -23.  127.   86.  119.   15.]\n",
      "Layer: dense_418\n",
      "Weights:\n",
      "[[  16. -110.  -90.]\n",
      " [ -51.  -96.   94.]\n",
      " [  94.  -34.  -84.]\n",
      " [-108.   47.  -70.]\n",
      " [  63. -127.   33.]\n",
      " [-128.    3.  -39.]\n",
      " [ 127. -103.  -27.]\n",
      " [-109. -119. -113.]]\n",
      "Biases:\n",
      "[-128.  -12.  127.]\n"
     ]
    }
   ],
   "source": [
    "for layer in model.layers:\n",
    "    weights = layer.get_weights()\n",
    "    print(f\"Layer: {layer.name}\")\n",
    "    if weights:\n",
    "        print(\"Weights:\")\n",
    "        print(weights[0])  # Print weights matrix\n",
    "        if len(weights) > 1:\n",
    "            print(\"Biases:\")\n",
    "            print(weights[1])  # Print biases vector\n",
    "    else:\n",
    "        print(\"No weights for this layer.\")"
   ]
  },
  {
   "cell_type": "markdown",
   "metadata": {},
   "source": [
    "# Evaluate Quantized Weights (No Activation Quantization)"
   ]
  },
  {
   "cell_type": "code",
   "execution_count": 1558,
   "metadata": {},
   "outputs": [
    {
     "name": "stdout",
     "output_type": "stream",
     "text": [
      "\u001b[1m1/1\u001b[0m \u001b[32m━━━━━━━━━━━━━━━━━━━━\u001b[0m\u001b[37m\u001b[0m \u001b[1m0s\u001b[0m 40ms/step\n",
      "Accuracy of the dataset: 100.00%\n"
     ]
    },
    {
     "data": {
      "image/png": "[encoded data removed]",
      "text/plain": [
       "<Figure size 800x600 with 2 Axes>"
      ]
     },
     "metadata": {},
     "output_type": "display_data"
    },
    {
     "name": "stdout",
     "output_type": "stream",
     "text": [
      "Classification Report:\n",
      "               precision    recall  f1-score   support\n",
      "\n",
      "     Class 0       1.00      1.00      1.00        10\n",
      "     Class 1       1.00      1.00      1.00        10\n",
      "     Class 2       1.00      1.00      1.00        10\n",
      "\n",
      "    accuracy                           1.00        30\n",
      "   macro avg       1.00      1.00      1.00        30\n",
      "weighted avg       1.00      1.00      1.00        30\n",
      "\n"
     ]
    },
    {
     "data": {
      "image/png": "[encoded data removed]",
      "text/plain": [
       "<Figure size 800x600 with 1 Axes>"
      ]
     },
     "metadata": {},
     "output_type": "display_data"
    }
   ],
   "source": [
    "# Predict on test data\n",
    "predictions = model.predict(X_test)\n",
    "y_pred = np.argmax(predictions, axis=1)\n",
    "y_true = np.argmax(y_test, axis=1)\n",
    "\n",
    "# Calculate accuracy\n",
    "accuracy = np.sum(y_true == y_pred) / len(y_true) * 100\n",
    "quantizde_weights_model_acc = accuracy\n",
    "print(\"Accuracy of the dataset: {:.2f}%\".format(accuracy))\n",
    "\n",
    "# Confusion Matrix\n",
    "cm = confusion_matrix(y_true, y_pred)\n",
    "plt.figure(figsize=(8, 6))\n",
    "sns.heatmap(cm, annot=True, fmt='d', cmap='Blues', xticklabels=range(3), yticklabels=range(3))\n",
    "plt.xlabel('Predicted Label')\n",
    "plt.ylabel('True Label')\n",
    "plt.title('Confusion Matrix')\n",
    "plt.show()\n",
    "\n",
    "# Classification Report\n",
    "report = classification_report(y_true, y_pred, target_names=[f'Class {i}' for i in range(3)])\n",
    "print(\"Classification Report:\\n\", report)\n",
    "\n",
    "# ROC Curve and AUC\n",
    "# Binarize the output for ROC curve\n",
    "y_test_bin = label_binarize(y_true, classes=[0, 1, 2])\n",
    "y_pred_prob = predictions  # Probability predictions\n",
    "\n",
    "fpr = dict()\n",
    "tpr = dict()\n",
    "roc_auc = dict()\n",
    "for i in range(3):\n",
    "    fpr[i], tpr[i], _ = roc_curve(y_test_bin[:, i], y_pred_prob[:, i])\n",
    "    roc_auc[i] = auc(fpr[i], tpr[i])\n",
    "\n",
    "# Plot ROC curve\n",
    "plt.figure(figsize=(8, 6))\n",
    "for i in range(3):\n",
    "    plt.plot(fpr[i], tpr[i], label=f'Class {i} (area = {roc_auc[i]:.2f})')\n",
    "plt.plot([0, 1], [0, 1], 'k--')\n",
    "plt.xlim([0.0, 1.0])\n",
    "plt.ylim([0.0, 1.05])\n",
    "plt.xlabel('False Positive Rate')\n",
    "plt.ylabel('True Positive Rate')\n",
    "plt.title('Receiver Operating Characteristic (ROC) Curve')\n",
    "plt.legend(loc='lower right')\n",
    "plt.show()"
   ]
  },
  {
   "cell_type": "code",
   "execution_count": 1559,
   "metadata": {},
   "outputs": [],
   "source": [
    "model.save_weights('model_scaled.weights.h5')"
   ]
  },
  {
   "cell_type": "markdown",
   "metadata": {},
   "source": [
    "# Parse weights into a C array style\n",
    "\n",
    "This is the data that has to be pre-loaded into the FPGA's memory in order to perform inference."
   ]
  },
  {
   "cell_type": "code",
   "execution_count": 1560,
   "metadata": {},
   "outputs": [],
   "source": [
    "# Open a file to write\n",
    "with open(\"model_weights_c_style.txt\", \"w\") as file:\n",
    "    for layer in model.layers:\n",
    "        weights = layer.get_weights()\n",
    "        file.write(\"Layer: {}\\n\".format(layer.name))\n",
    "        if weights:\n",
    "            file.write(\"Weights:\\n\")\n",
    "            # Write weights matrix in C-style\n",
    "            weight_matrix = weights[0]\n",
    "            rows, cols = weight_matrix.shape\n",
    "            file.write(\"const short weights[{}][{}] = {{\\n\".format(rows, cols))\n",
    "            for i, row in enumerate(weight_matrix):\n",
    "                file.write(\"    {\")\n",
    "                file.write(', '.join(map(lambda x: '{:d}'.format(int(x)), row)))\n",
    "                file.write(\"}\")\n",
    "                if i < rows - 1:\n",
    "                    file.write(\",\\n\")\n",
    "                else:\n",
    "                    file.write(\"\\n\")\n",
    "            file.write(\"};\\n\\n\")\n",
    "\n",
    "            if len(weights) > 1:\n",
    "                file.write(\"Biases:\\n\")\n",
    "                # Write biases vector in C-style\n",
    "                biases = weights[1]\n",
    "                file.write(\"const short biases[{}] = {{\\n\".format(len(biases)))\n",
    "                file.write(', '.join(map(lambda x: '{:d}'.format(int(x)), biases)))\n",
    "                file.write(\"\\n};\\n\\n\")"
   ]
  },
  {
   "cell_type": "markdown",
   "metadata": {},
   "source": [
    "# Sanity Checks\n",
    "\n",
    "Looking for odd non int8 values"
   ]
  },
  {
   "cell_type": "code",
   "execution_count": 1561,
   "metadata": {},
   "outputs": [
    {
     "name": "stdout",
     "output_type": "stream",
     "text": [
      "\u001b[1m1/1\u001b[0m \u001b[32m━━━━━━━━━━━━━━━━━━━━\u001b[0m\u001b[37m\u001b[0m \u001b[1m0s\u001b[0m 79ms/step\n",
      "[[1. 0. 0.]\n",
      " [1. 0. 0.]\n",
      " [1. 0. 0.]\n",
      " [1. 0. 0.]\n",
      " [1. 0. 0.]]\n"
     ]
    }
   ],
   "source": [
    "prueba =  [ [ 110,   34,  -66, -123],\n",
    "            [ 118,   21,  -61, -122],\n",
    "            [ 111,   33,  -65, -122],\n",
    "            [ 109,   30,  -53, -122],\n",
    "            [ 106,   40,  -65, -122]]\n",
    "\n",
    "prueba = np.array(prueba)\n",
    "predictions = model.predict(prueba)\n",
    "\n",
    "print(predictions)"
   ]
  },
  {
   "cell_type": "code",
   "execution_count": 1562,
   "metadata": {},
   "outputs": [
    {
     "name": "stdout",
     "output_type": "stream",
     "text": [
      "[<tf.Tensor: shape=(5, 8), dtype=float32, numpy=\n",
      "array([[21998., 18548.,     0.,     0.,     0.,     0.,   325.,     0.],\n",
      "       [21171., 18027.,     0.,     0.,     0.,     0.,   870.,     0.],\n",
      "       [21892., 18400.,     0.,     0.,     0.,     0.,   513.,     0.],\n",
      "       [21008., 16760.,     0.,     0.,     0.,     0.,  1643.,     0.],\n",
      "       [22153., 18285.,     0.,     0.,     0.,     0.,   514.,     0.]],\n",
      "      dtype=float32)>, <tf.Tensor: shape=(5, 8), dtype=float32, numpy=\n",
      "array([[3034168.,       0.,       0.,       0., 1257996., 3760124.,\n",
      "         705194.,       0.],\n",
      "       [2864752.,       0.,       0.,       0., 1199107., 3573857.,\n",
      "         653531.,       0.],\n",
      "       [2991468.,       0.,       0.,       0., 1232926., 3720204.,\n",
      "         680548.,       0.],\n",
      "       [2658012.,       0.,       0.,       0.,  999032., 3407880.,\n",
      "         466186.,       0.],\n",
      "       [3001688.,       0.,       0.,       0., 1205471., 3746667.,\n",
      "         653287.,       0.]], dtype=float32)>, <tf.Tensor: shape=(5, 3), dtype=float32, numpy=\n",
      "array([[1., 0., 0.],\n",
      "       [1., 0., 0.],\n",
      "       [1., 0., 0.],\n",
      "       [1., 0., 0.],\n",
      "       [1., 0., 0.]], dtype=float32)>]\n"
     ]
    }
   ],
   "source": [
    "extractor = keras.Model(inputs=model.inputs,\n",
    "                        outputs=[layer.output for layer in model.layers])\n",
    "features = extractor(prueba)\n",
    "\n",
    "print(features)"
   ]
  },
  {
   "cell_type": "markdown",
   "metadata": {},
   "source": [
    "## Activation layer quantization simulation\n",
    "\n",
    "This is a test to see the models behavoiur with the on chip quantization"
   ]
  },
  {
   "cell_type": "markdown",
   "metadata": {},
   "source": [
    "In this case we are using power of 2 constrained quatinzation or a power-of-two quantizer, this is a symmetric quantization technique that restrains $$ s = 2^{-k} $$ to bring hardware effciency."
   ]
  },
  {
   "cell_type": "code",
   "execution_count": 1719,
   "metadata": {},
   "outputs": [],
   "source": [
    "# Define the custom quantized ReLU activation\n",
    "def mirelu32(inputs):\n",
    "    # Apply ReLU\n",
    "    inputs = tf.nn.relu(inputs)\n",
    "    \n",
    "    # Quantize by dividing and rounding using TensorFlow operations\n",
    "    inputs = tf.math.round(inputs / 32)  # TensorFlow version of rounding\n",
    "    \n",
    "    # Convert the tensor to integer type using TensorFlow\n",
    "    inputs = tf.cast(inputs, tf.int32)\n",
    "    \n",
    "    return inputs\n",
    "\n",
    "# Define the custom quantized ReLU activation\n",
    "def mirelu64(inputs):\n",
    "    # Apply ReLU\n",
    "    inputs = tf.nn.relu(inputs)\n",
    "    \n",
    "    # Quantize by dividing and rounding using TensorFlow operations\n",
    "    inputs = tf.math.round(inputs / 64)  # TensorFlow version of rounding\n",
    "    \n",
    "    # Convert the tensor to integer type using TensorFlow\n",
    "    inputs = tf.cast(inputs, tf.int32)\n",
    "    \n",
    "    return inputs\n",
    "\n",
    "# Define the custom quantized ReLU activation\n",
    "def mirelu128(inputs):\n",
    "    # Apply ReLU\n",
    "    inputs = tf.nn.relu(inputs)\n",
    "    \n",
    "    # Quantize by dividing and rounding using TensorFlow operations\n",
    "    inputs = tf.math.floor(inputs / 128)  # TensorFlow version of rounding\n",
    "    \n",
    "    # Convert the tensor to integer type using TensorFlow\n",
    "    inputs = tf.cast(inputs, tf.int32)\n",
    "    \n",
    "    return inputs\n",
    "\n",
    "# # Define the custom quantized ReLU activation\n",
    "# def mirelu_quantized(inputs, quant_min=0, quant_max=255):\n",
    "#     # Apply ReLU using TensorFlow\n",
    "#     inputs = tf.nn.relu(inputs)\n",
    "\n",
    "#     # # Calculate scale and zero-point using TensorFlow operations (not NumPy)\n",
    "#     min_val = tf.reduce_min(inputs)  # TensorFlow version of calculating min\n",
    "#     max_val = tf.reduce_max(inputs)  # TensorFlow version of calculating max\n",
    "\n",
    "#     # max_val = (2**15)-2\n",
    "#     # min_val = -(2**15)\n",
    "\n",
    "\n",
    "#     # Calculate the scale and zero point\n",
    "#     scale = (max_val - min_val) / (quant_max - quant_min)\n",
    "#     zero_point = tf.round(quant_min - min_val / scale)\n",
    "\n",
    "#     # Quantize the ReLU outputs\n",
    "#     quantized_inputs = tf.round(inputs / scale + zero_point)\n",
    "\n",
    "#     # Clip values to ensure they fit within the int8 range [-128, 127]\n",
    "#     quantized_inputs = tf.clip_by_value(quantized_inputs, quant_min, quant_max)\n",
    "\n",
    "#     # Convert to integer type using TensorFlow operations\n",
    "#     quantized_inputs = tf.cast(quantized_inputs, tf.int32)\n",
    "\n",
    "#     return quantized_inputs\n",
    "\n",
    "# Define the custom quantized ReLU activation\n",
    "def misoftmax(inputs):\n",
    "    \n",
    "    # # Find the maximum value in the inputs\n",
    "    # max_value = tf.reduce_max(inputs)\n",
    "    \n",
    "    # # Create a mask that keeps only the max value and sets others to zero\n",
    "    # outputs = tf.where(inputs == max_value, max_value, tf.zeros_like(inputs))\n",
    "    \n",
    "    # # Convert the tensor to integer type using TensorFlow\n",
    "    # outputs = tf.cast(outputs, tf.int32)\n",
    "    \n",
    "    return inputs\n",
    "\n",
    "# Create the model\n",
    "model_quant = Sequential()\n",
    "\n",
    "# Use Input layer to define the input shape\n",
    "model_quant.add(Input(shape=(4,)))\n",
    "\n",
    "# Add the rest of the layers\n",
    "model_quant.add(Dense(8, activation=mirelu128))\n",
    "model_quant.add(Dense(8, activation=mirelu128))\n",
    "model_quant.add(Dense(3, activation=misoftmax))\n",
    "\n",
    "# Compile the model\n",
    "model_quant.compile(loss='categorical_crossentropy', optimizer='adam', metrics=['accuracy'])\n"
   ]
  },
  {
   "cell_type": "code",
   "execution_count": 1720,
   "metadata": {},
   "outputs": [
    {
     "name": "stdout",
     "output_type": "stream",
     "text": [
      "Weights copied from 'model' to 'model_quant'.\n"
     ]
    }
   ],
   "source": [
    "# Assuming 'model' is already created and trained\n",
    "# Assuming 'model_quant' has the same architecture as 'model'\n",
    "\n",
    "# Copy weights from 'model' to 'model_quant'\n",
    "for layer_index in range(len(model.layers)):\n",
    "    # Get weights from 'model'\n",
    "    weights = model.layers[layer_index].get_weights()\n",
    "\n",
    "    # Set weights in 'model_quant' for the corresponding layer\n",
    "    model_quant.layers[layer_index].set_weights(weights)\n",
    "\n",
    "print(\"Weights copied from 'model' to 'model_quant'.\")\n"
   ]
  },
  {
   "cell_type": "markdown",
   "metadata": {},
   "source": [
    "## Checking weights again"
   ]
  },
  {
   "cell_type": "code",
   "execution_count": 1721,
   "metadata": {},
   "outputs": [
    {
     "name": "stdout",
     "output_type": "stream",
     "text": [
      "Layer: dense_470\n",
      "Weights:\n",
      "[[  85.   37.   -3. -115. -110.  -98.   95.  -14.]\n",
      " [  98.   10.   13.  -15.  -43.   69.   68.   37.]\n",
      " [ -35. -128.  -26.   53.  -20.   -5.  127.  -81.]\n",
      " [ -58.  -47.   43.  -57.  -53.   94.   34.  109.]]\n",
      "Biases:\n",
      "[-128.  -91.   10.  -89.   10.   10.  127.   10.]\n",
      "Layer: dense_471\n",
      "Weights:\n",
      "[[  74.  -91.  -82.   37.  -49.  126.  -57.  -59.]\n",
      " [  78.   -8.  -53. -124.  127.   55.  107.   47.]\n",
      " [ 101.  -10.  -75.   65.  -25.  -74.  -53.  -14.]\n",
      " [  88.  -68. -106.   -4.  -16.  -80.   71.  -38.]\n",
      " [  49. -114.   32.   42.  -16. -123. -128. -118.]\n",
      " [  66.   68.   -1.  -35.   96.   70.  110.  -19.]\n",
      " [-124.   78.   19.  -51.  -61.  -98.  -79.   -9.]\n",
      " [  56.  -57. -103.   82.   88.  -37.   44.   62.]]\n",
      "Biases:\n",
      "[-128.   41.   18.  -23.  127.   86.  119.   15.]\n",
      "Layer: dense_472\n",
      "Weights:\n",
      "[[  16. -110.  -90.]\n",
      " [ -51.  -96.   94.]\n",
      " [  94.  -34.  -84.]\n",
      " [-108.   47.  -70.]\n",
      " [  63. -127.   33.]\n",
      " [-128.    3.  -39.]\n",
      " [ 127. -103.  -27.]\n",
      " [-109. -119. -113.]]\n",
      "Biases:\n",
      "[-128.  -12.  127.]\n"
     ]
    }
   ],
   "source": [
    "for layer in model_quant.layers:\n",
    "    weights = layer.get_weights()\n",
    "    print(f\"Layer: {layer.name}\")\n",
    "    if weights:\n",
    "        print(\"Weights:\")\n",
    "        print(weights[0])  # Print weights matrix\n",
    "        if len(weights) > 1:\n",
    "            print(\"Biases:\")\n",
    "            print(weights[1])  # Print biases vector\n",
    "    else:\n",
    "        print(\"No weights for this layer.\")"
   ]
  },
  {
   "cell_type": "markdown",
   "metadata": {},
   "source": [
    "## Checking intermediante results"
   ]
  },
  {
   "cell_type": "code",
   "execution_count": 1722,
   "metadata": {},
   "outputs": [
    {
     "name": "stdout",
     "output_type": "stream",
     "text": [
      "\u001b[1m1/1\u001b[0m \u001b[32m━━━━━━━━━━━━━━━━━━━━\u001b[0m\u001b[37m\u001b[0m \u001b[1m0s\u001b[0m 156ms/step\n",
      "[[-9.4400e+02 -1.5480e+03  1.6310e+03]\n",
      " [-5.3600e+03  1.0000e+00 -1.5620e+03]\n",
      " [-2.5600e+03  4.5000e+01 -6.1400e+02]\n",
      " [-1.6249e+04 -3.0642e+04 -2.2421e+04]]\n"
     ]
    }
   ],
   "source": [
    "# prueba =  [ [ 110,   34,  -66, -123],\n",
    "#             [ 118,   21,  -61, -122],\n",
    "#             [ 111,   33,  -65, -122],\n",
    "#             [ 109,   30,  -53, -122],\n",
    "#             [ 106,   40,  -65, -122]]\n",
    "\n",
    "prueba =  [[ 77, -36,  54, -72 ],\n",
    "           [ 96, -26,  29, -93 ],\n",
    "           [ 95, -37,  33, -78 ],\n",
    "           [ 110, 32, -59, -122],\n",
    "        ]\n",
    "\n",
    "\n",
    "# prueba =  [[ 77, -36,  54, -72]]\n",
    "\n",
    "prueba = np.array(prueba)\n",
    "predictions = model_quant.predict(prueba)\n",
    "\n",
    "print(predictions)"
   ]
  },
  {
   "cell_type": "code",
   "execution_count": 1723,
   "metadata": {},
   "outputs": [
    {
     "name": "stdout",
     "output_type": "stream",
     "text": [
      "[<tf.Tensor: shape=(4, 8), dtype=int32, numpy=\n",
      "array([[ 40,   0,   0,   0,   0,   0,  73,   0],\n",
      "       [ 77,  30,   0,   0,   0,   0,  62,   0],\n",
      "       [ 60,  19,   0,   0,   0,   0,  63,   0],\n",
      "       [167, 137,   0,   0,   0,   0,   8,   0]], dtype=int32)>, <tf.Tensor: shape=(4, 8), dtype=int32, numpy=\n",
      "array([[  0,  16,   0,   0,   0,   0,   0,   0],\n",
      "       [  1,   0,   0,   0,   0,  41,   0,   0],\n",
      "       [  0,   0,   0,   0,   0,  19,   0,   0],\n",
      "       [171,   0,   0,   0,  69, 217,  36,   0]], dtype=int32)>, <tf.Tensor: shape=(4, 3), dtype=float32, numpy=\n",
      "array([[-9.4400e+02, -1.5480e+03,  1.6310e+03],\n",
      "       [-5.3600e+03,  1.0000e+00, -1.5620e+03],\n",
      "       [-2.5600e+03,  4.5000e+01, -6.1400e+02],\n",
      "       [-1.6249e+04, -3.0642e+04, -2.2421e+04]], dtype=float32)>]\n"
     ]
    }
   ],
   "source": [
    "\n",
    "extractor = keras.Model(inputs=model_quant.inputs,\n",
    "                        outputs=[layer.output for layer in model_quant.layers])\n",
    "features = extractor(prueba)\n",
    "\n",
    "print(features)"
   ]
  },
  {
   "cell_type": "code",
   "execution_count": 1724,
   "metadata": {},
   "outputs": [
    {
     "name": "stdout",
     "output_type": "stream",
     "text": [
      "[ 77 -36  54 -72]\n",
      "[0. 0. 1.]\n",
      "[ 96 -26  29 -93]\n",
      "[0. 1. 0.]\n",
      "[ 95 -37  33 -78]\n",
      "[0. 1. 0.]\n",
      "[ 110   32  -59 -122]\n",
      "[1. 0. 0.]\n"
     ]
    }
   ],
   "source": [
    "print(X_test[25])\n",
    "print(y_test[25])\n",
    "\n",
    "print(X_test[2])\n",
    "print(y_test[2])\n",
    "\n",
    "print(X_test[10])\n",
    "print(y_test[10])\n",
    "\n",
    "print(X_test[7])\n",
    "print(y_test[7])\n"
   ]
  },
  {
   "cell_type": "markdown",
   "metadata": {},
   "source": [
    "## Re-evaluate model with activation quantization"
   ]
  },
  {
   "cell_type": "code",
   "execution_count": 1725,
   "metadata": {},
   "outputs": [
    {
     "name": "stdout",
     "output_type": "stream",
     "text": [
      "\u001b[1m1/1\u001b[0m \u001b[32m━━━━━━━━━━━━━━━━━━━━\u001b[0m\u001b[37m\u001b[0m \u001b[1m0s\u001b[0m 116ms/step\n",
      "Accuracy of the dataset: 100.00%\n"
     ]
    },
    {
     "data": {
      "image/png": "[encoded data removed]",
      "text/plain": [
       "<Figure size 800x600 with 2 Axes>"
      ]
     },
     "metadata": {},
     "output_type": "display_data"
    },
    {
     "name": "stdout",
     "output_type": "stream",
     "text": [
      "Classification Report:\n",
      "               precision    recall  f1-score   support\n",
      "\n",
      "     Class 0       1.00      1.00      1.00        10\n",
      "     Class 1       1.00      1.00      1.00        10\n",
      "     Class 2       1.00      1.00      1.00        10\n",
      "\n",
      "    accuracy                           1.00        30\n",
      "   macro avg       1.00      1.00      1.00        30\n",
      "weighted avg       1.00      1.00      1.00        30\n",
      "\n"
     ]
    },
    {
     "data": {
      "image/png": "[encoded data removed]",
      "text/plain": [
       "<Figure size 800x600 with 1 Axes>"
      ]
     },
     "metadata": {},
     "output_type": "display_data"
    }
   ],
   "source": [
    "# Predict on test data\n",
    "predictions = model_quant.predict(X_test)\n",
    "y_pred = np.argmax(predictions, axis=1)\n",
    "y_true = np.argmax(y_test, axis=1)\n",
    "\n",
    "# Calculate accuracy\n",
    "accuracy = np.sum(y_true == y_pred) / len(y_true) * 100\n",
    "fully_quantized_model_acc = accuracy\n",
    "print(\"Accuracy of the dataset: {:.2f}%\".format(accuracy))\n",
    "\n",
    "# Confusion Matrix\n",
    "cm = confusion_matrix(y_true, y_pred)\n",
    "plt.figure(figsize=(8, 6))\n",
    "sns.heatmap(cm, annot=True, fmt='d', cmap='Blues', xticklabels=range(3), yticklabels=range(3))\n",
    "plt.xlabel('Predicted Label')\n",
    "plt.ylabel('True Label')\n",
    "plt.title('Confusion Matrix')\n",
    "plt.show()\n",
    "\n",
    "# Classification Report\n",
    "report = classification_report(y_true, y_pred, target_names=[f'Class {i}' for i in range(3)])\n",
    "print(\"Classification Report:\\n\", report)\n",
    "\n",
    "# ROC Curve and AUC\n",
    "# Binarize the output for ROC curve\n",
    "y_test_bin = label_binarize(y_true, classes=[0, 1, 2])\n",
    "y_pred_prob = predictions  # Probability predictions\n",
    "\n",
    "fpr = dict()\n",
    "tpr = dict()\n",
    "roc_auc = dict()\n",
    "for i in range(3):\n",
    "    fpr[i], tpr[i], _ = roc_curve(y_test_bin[:, i], y_pred_prob[:, i])\n",
    "    roc_auc[i] = auc(fpr[i], tpr[i])\n",
    "\n",
    "# Plot ROC curve\n",
    "plt.figure(figsize=(8, 6))\n",
    "for i in range(3):\n",
    "    plt.plot(fpr[i], tpr[i], label=f'Class {i} (area = {roc_auc[i]:.2f})')\n",
    "plt.plot([0, 1], [0, 1], 'k--')\n",
    "plt.xlim([0.0, 1.0])\n",
    "plt.ylim([0.0, 1.05])\n",
    "plt.xlabel('False Positive Rate')\n",
    "plt.ylabel('True Positive Rate')\n",
    "plt.title('Receiver Operating Characteristic (ROC) Curve')\n",
    "plt.legend(loc='lower right')\n",
    "plt.show()"
   ]
  },
  {
   "cell_type": "markdown",
   "metadata": {},
   "source": [
    "# Summary"
   ]
  },
  {
   "cell_type": "code",
   "execution_count": 1726,
   "metadata": {},
   "outputs": [
    {
     "name": "stdout",
     "output_type": "stream",
     "text": [
      "Accuracy of normal model: 100.00%\n",
      "Accuracy of the weight quantized model: 100.00%\n",
      "Accuracy of the fully quantized model: 100.00%\n"
     ]
    }
   ],
   "source": [
    "print(\"Accuracy of normal model: {:.2f}%\".format(normal_model_acc))\n",
    "print(\"Accuracy of the weight quantized model: {:.2f}%\".format(quantizde_weights_model_acc))\n",
    "print(\"Accuracy of the fully quantized model: {:.2f}%\".format(fully_quantized_model_acc))"
   ]
  }
 ],
 "metadata": {
  "kernelspec": {
   "display_name": "Python 3",
   "language": "python",
   "name": "python3"
  },
  "language_info": {
   "codemirror_mode": {
    "name": "ipython",
    "version": 3
   },
   "file_extension": ".py",
   "mimetype": "text/x-python",
   "name": "python",
   "nbconvert_exporter": "python",
   "pygments_lexer": "ipython3",
   "version": "3.10.12"
  }
 },
 "nbformat": 4,
 "nbformat_minor": 2
}
